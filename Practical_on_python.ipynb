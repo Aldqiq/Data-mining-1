{
  "nbformat": 4,
  "nbformat_minor": 0,
  "metadata": {
    "colab": {
      "provenance": [],
      "authorship_tag": "ABX9TyN21lGssTI86ju/o5YfwTkK",
      "include_colab_link": true
    },
    "kernelspec": {
      "name": "python3",
      "display_name": "Python 3"
    },
    "language_info": {
      "name": "python"
    }
  },
  "cells": [
    {
      "cell_type": "markdown",
      "metadata": {
        "id": "view-in-github",
        "colab_type": "text"
      },
      "source": [
        "<a href=\"https://colab.research.google.com/github/Aldqiq/Data-mining-1/blob/main/Practical_on_python.ipynb\" target=\"_parent\"><img src=\"https://colab.research.google.com/assets/colab-badge.svg\" alt=\"Open In Colab\"/></a>"
      ]
    },
    {
      "cell_type": "code",
      "execution_count": 17,
      "metadata": {
        "colab": {
          "base_uri": "https://localhost:8080/"
        },
        "id": "4x4YjYl8VtlZ",
        "outputId": "75b02f32-075d-40a6-ba76-ccac08642350"
      },
      "outputs": [
        {
          "output_type": "stream",
          "name": "stdout",
          "text": [
            "Sum: 15\n",
            "Difference: 5\n",
            "Product : 50\n",
            "Division : 2.0\n"
          ]
        }
      ],
      "source": [
        "a = 10\n",
        "b = 5\n",
        "Sum =a+b\n",
        "a = 10\n",
        "b = 5\n",
        "Sum =a+b\n",
        "Difference =a-b\n",
        "Product =a*b\n",
        "Division = a/b\n",
        "print(\"Sum:\",Sum)\n",
        "print(\"Difference:\",Difference)\n",
        "print(\"Product :\",Product)\n",
        "print(\"Division :\",Division)"
      ]
    },
    {
      "cell_type": "code",
      "source": [
        "print(f\"the sum of the two numbers{a},{b} is {sum}\")"
      ],
      "metadata": {
        "colab": {
          "base_uri": "https://localhost:8080/"
        },
        "id": "5edUHPTAiIAQ",
        "outputId": "3f521cc5-17b7-4b32-a697-2ae988df5cd9"
      },
      "execution_count": 20,
      "outputs": [
        {
          "output_type": "stream",
          "name": "stdout",
          "text": [
            "the sum of the two numbers10,5 is 15\n"
          ]
        }
      ]
    },
    {
      "cell_type": "code",
      "source": [
        "x= 13//2\n",
        "print(x)\n",
        "y= 13%2\n",
        "print(y)\n"
      ],
      "metadata": {
        "colab": {
          "base_uri": "https://localhost:8080/"
        },
        "id": "L4wMNwlVlIcF",
        "outputId": "527020f0-c297-4373-8a1f-68d8880129d8"
      },
      "execution_count": 24,
      "outputs": [
        {
          "output_type": "stream",
          "name": "stdout",
          "text": [
            "6\n",
            "1\n"
          ]
        }
      ]
    },
    {
      "cell_type": "code",
      "source": [
        "x=10\n",
        "y=5\n",
        "is_greater =x>y\n",
        "is_equal =x==y\n",
        "is_not_equal =x!=y\n",
        "\n",
        "print(\"Is x greater than y?\" , is_greater)\n",
        "print(\"Is x equal y?\" ,is_equal)\n",
        "print(\"Is not equal toy?\",is_not_equal)"
      ],
      "metadata": {
        "colab": {
          "base_uri": "https://localhost:8080/"
        },
        "id": "GNU3brQ9mh_d",
        "outputId": "695a357b-603c-46ce-91d4-0aab0465fcfd"
      },
      "execution_count": 26,
      "outputs": [
        {
          "output_type": "stream",
          "name": "stdout",
          "text": [
            "Is x greater than y? True\n",
            "Is x equal y? False\n",
            "Is not equal toy? True\n"
          ]
        }
      ]
    }
  ]
}