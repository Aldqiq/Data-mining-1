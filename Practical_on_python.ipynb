{
  "nbformat": 4,
  "nbformat_minor": 0,
  "metadata": {
    "colab": {
      "provenance": [],
      "authorship_tag": "ABX9TyMnE9zJtNkGH639h6ORCUar",
      "include_colab_link": true
    },
    "kernelspec": {
      "name": "python3",
      "display_name": "Python 3"
    },
    "language_info": {
      "name": "python"
    }
  },
  "cells": [
    {
      "cell_type": "markdown",
      "metadata": {
        "id": "view-in-github",
        "colab_type": "text"
      },
      "source": [
        "<a href=\"https://colab.research.google.com/github/Aldqiq/Data-mining-1/blob/main/Practical_on_python.ipynb\" target=\"_parent\"><img src=\"https://colab.research.google.com/assets/colab-badge.svg\" alt=\"Open In Colab\"/></a>"
      ]
    },
    {
      "cell_type": "code",
      "execution_count": 17,
      "metadata": {
        "colab": {
          "base_uri": "https://localhost:8080/"
        },
        "id": "4x4YjYl8VtlZ",
        "outputId": "75b02f32-075d-40a6-ba76-ccac08642350"
      },
      "outputs": [
        {
          "output_type": "stream",
          "name": "stdout",
          "text": [
            "Sum: 15\n",
            "Difference: 5\n",
            "Product : 50\n",
            "Division : 2.0\n"
          ]
        }
      ],
      "source": [
        "a = 10\n",
        "b = 5\n",
        "Sum =a+b\n",
        "a = 10\n",
        "b = 5\n",
        "Sum =a+b\n",
        "Difference =a-b\n",
        "Product =a*b\n",
        "Division = a/b\n",
        "print(\"Sum:\",Sum)\n",
        "print(\"Difference:\",Difference)\n",
        "print(\"Product :\",Product)\n",
        "print(\"Division :\",Division)"
      ]
    },
    {
      "cell_type": "code",
      "source": [
        "print(f\"the sum of the two numbers{a},{b} is {sum}\")"
      ],
      "metadata": {
        "colab": {
          "base_uri": "https://localhost:8080/"
        },
        "id": "5edUHPTAiIAQ",
        "outputId": "3f521cc5-17b7-4b32-a697-2ae988df5cd9"
      },
      "execution_count": 20,
      "outputs": [
        {
          "output_type": "stream",
          "name": "stdout",
          "text": [
            "the sum of the two numbers10,5 is 15\n"
          ]
        }
      ]
    },
    {
      "cell_type": "code",
      "source": [
        "x= 13//2\n",
        "print(x)\n",
        "y= 13%2\n",
        "print(y)\n"
      ],
      "metadata": {
        "colab": {
          "base_uri": "https://localhost:8080/"
        },
        "id": "L4wMNwlVlIcF",
        "outputId": "527020f0-c297-4373-8a1f-68d8880129d8"
      },
      "execution_count": 24,
      "outputs": [
        {
          "output_type": "stream",
          "name": "stdout",
          "text": [
            "6\n",
            "1\n"
          ]
        }
      ]
    },
    {
      "cell_type": "code",
      "source": [
        "x=10\n",
        "y=5\n",
        "is_greater =x>y\n",
        "is_equal =x==y\n",
        "is_not_equal =x!=y\n",
        "\n",
        "print(\"Is x greater than y?\" , is_greater)\n",
        "print(\"Is x equal y?\" ,is_equal)\n",
        "print(\"Is not equal toy?\",is_not_equal)\n",
        "\n"
      ],
      "metadata": {
        "colab": {
          "base_uri": "https://localhost:8080/"
        },
        "id": "GNU3brQ9mh_d",
        "outputId": "695a357b-603c-46ce-91d4-0aab0465fcfd"
      },
      "execution_count": 26,
      "outputs": [
        {
          "output_type": "stream",
          "name": "stdout",
          "text": [
            "Is x greater than y? True\n",
            "Is x equal y? False\n",
            "Is not equal toy? True\n"
          ]
        }
      ]
    },
    {
      "cell_type": "code",
      "source": [
        "\n",
        "#variable assignment\n",
        "name = \"Ali\"\n",
        "age = 40\n",
        "is_student = True\n",
        "print(f\"{name}'s age is {age}. He is a student is {is_student}\")"
      ],
      "metadata": {
        "colab": {
          "base_uri": "https://localhost:8080/"
        },
        "id": "ewSXWMWwot7V",
        "outputId": "96c04791-f031-4ee1-e110-c6313ca873a9"
      },
      "execution_count": 2,
      "outputs": [
        {
          "output_type": "stream",
          "name": "stdout",
          "text": [
            "Ali's age is 40. He is a student is True\n"
          ]
        }
      ]
    },
    {
      "cell_type": "code",
      "source": [
        "#Defining and using a function\n",
        "def greet (name):\n",
        "    return \"Hello,\" +name+ \"!\"\n",
        "\n",
        "my_name=input(\"Enter your name:\")\n",
        "greet(\"my_name\")\n",
        "\n",
        "\n",
        "\n"
      ],
      "metadata": {
        "colab": {
          "base_uri": "https://localhost:8080/",
          "height": 53
        },
        "id": "C05GSMb8wYZU",
        "outputId": "8bf98977-4d6a-4a48-a944-e0b698e72044"
      },
      "execution_count": 33,
      "outputs": [
        {
          "name": "stdout",
          "output_type": "stream",
          "text": [
            "Enter your name:Ali\n"
          ]
        },
        {
          "output_type": "execute_result",
          "data": {
            "text/plain": [
              "'Hello,my_name!'"
            ],
            "application/vnd.google.colaboratory.intrinsic+json": {
              "type": "string"
            }
          },
          "metadata": {},
          "execution_count": 33
        }
      ]
    },
    {
      "cell_type": "code",
      "source": [
        "def add_numbers(a,b):\n",
        "    return a+b\n",
        "\n",
        "a=int(input(\"Enter first number:\"))\n",
        "b=int(input(\"Enter second number:\"))\n",
        "\n",
        "addition_value =add_numbers(a,b)\n",
        "print(f\"the resut of addition for {a},{b} is {addition_value}\")\n"
      ],
      "metadata": {
        "colab": {
          "base_uri": "https://localhost:8080/"
        },
        "id": "f3Aq3PlS0s4P",
        "outputId": "95cfb306-d4fc-44b7-bfb7-bcf2d33033aa"
      },
      "execution_count": 2,
      "outputs": [
        {
          "output_type": "stream",
          "name": "stdout",
          "text": [
            "Enter first number:2\n",
            "Enter second number:3\n",
            "the resut of addition for 2,3 is 5\n"
          ]
        }
      ]
    },
    {
      "cell_type": "code",
      "source": [
        "def add_numbers(a,b):\n",
        "    return a+b\n",
        "\n",
        "a=eval(input(\"Enter first number:\"))\n",
        "b=eval(input(\"Enter second number: \"))\n",
        "\n",
        "addition_value =add_numbers(a,b)\n",
        "print(f\"the resut of addition for {a},{b} is {addition_value}\")"
      ],
      "metadata": {
        "colab": {
          "base_uri": "https://localhost:8080/"
        },
        "id": "P-NTW1mhTGqV",
        "outputId": "40f07bc9-b7bc-4a92-e0fd-f14f761355e5"
      },
      "execution_count": 4,
      "outputs": [
        {
          "output_type": "stream",
          "name": "stdout",
          "text": [
            "Enter first number:-4.5\n",
            "Enter second number: 10\n",
            "the resut of addition for -4.5,10 is 5.5\n"
          ]
        }
      ]
    },
    {
      "cell_type": "code",
      "source": [
        "#Basic input example\n",
        "message=\"Hello, World\"\n",
        "length=len(message)\n",
        "uppercase=message.upper()\n",
        "lowercase=message.lower()\n",
        "substring=message[7:12]\n",
        "\n",
        "print(\"Original message:\",message)\n",
        "print(\"The length is:\",length)\n",
        "print(\"Upper caes:\",uppercase)\n",
        "print(\"Lower case:\",lowercase)\n",
        "print(\"Part of the message is: \",substring)\n"
      ],
      "metadata": {
        "colab": {
          "base_uri": "https://localhost:8080/"
        },
        "id": "S0OcG9gCUJ2t",
        "outputId": "6aa6a5f8-cf6c-411c-a532-32f511791fbb"
      },
      "execution_count": 6,
      "outputs": [
        {
          "output_type": "stream",
          "name": "stdout",
          "text": [
            "Original message: Hello, World\n",
            "The length is: 12\n",
            "Upper caes: HELLO, WORLD\n",
            "Lower case: hello, world\n",
            "Part of the message is:  World\n"
          ]
        }
      ]
    },
    {
      "cell_type": "code",
      "source": [
        "#Basic input example\n",
        "Last =input(\"Enter the last name, last name:\")\n",
        "first =input(\"Enter the last name, first name:\")\n",
        "\n",
        "print(f\"{Last},{first}\")"
      ],
      "metadata": {
        "colab": {
          "base_uri": "https://localhost:8080/"
        },
        "id": "Kk7Xokz4c_NI",
        "outputId": "373b1d80-424f-4db7-b0a0-37d6af417468"
      },
      "execution_count": 16,
      "outputs": [
        {
          "output_type": "stream",
          "name": "stdout",
          "text": [
            "Enter the last name, last name:Alhawiti\n",
            "Enter the last name, first name:Ali\n",
            "Alhawiti,Ali\n"
          ]
        }
      ]
    }
  ]
}